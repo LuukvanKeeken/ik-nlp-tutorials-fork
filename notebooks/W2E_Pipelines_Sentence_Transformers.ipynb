{
 "cells": [
  {
   "cell_type": "markdown",
   "metadata": {},
   "source": [
    "[![Open In Colab](https://colab.research.google.com/assets/colab-badge.svg)](https://colab.research.google.com/github/gsarti/ik-nlp-tutorials/blob/main/notebooks/W2E_Pipelines_Sentence_Transformers.ipynb)"
   ]
  },
  {
   "cell_type": "code",
   "execution_count": null,
   "metadata": {},
   "outputs": [],
   "source": [
    "# Run in Colab to install local packages\n",
    "!pip install transformers sentencepiece torch datasets sentence-transformers"
   ]
  },
  {
   "attachments": {},
   "cell_type": "markdown",
   "metadata": {},
   "source": [
    "# 🤗 Pipelines & Sentence Transformers for Semantic Search and QA\n",
    "\n",
    "*This notebook is partly adapted from a tutorial by Wietse De Vries for the IK-NLP course of 2021*\n",
    "\n",
    "The goal of this notebook is to make you practice with some pipeline use-cases and to introduce the [Sentence Transformers](https://sbert.net/) in the context of a concrete example of semantic search and question answering (relevant to the Open-book Question Answering final project).\n",
    "\n",
    "Exercises 1 and 2 of this notebook are mandatory and will be part of your first graded portfolio. Exercise 3 is optional, but we highly recommend you to complete it, especially if you're interested in the Open-book Question Answering final project."
   ]
  },
  {
   "cell_type": "markdown",
   "metadata": {},
   "source": [
    "## Exercise 1: Using the Fill-mask pipeline for Probing Linguistic Knowledge in mBERT"
   ]
  },
  {
   "cell_type": "markdown",
   "metadata": {},
   "source": [
    "As you probably know by now, BERT is a transformed-based, context-sensitive, neural language models that has been trained, among others, on a masked language modeling task, where the model learns to predict what the most likely word is at a a *masked* (hidden) position in the sentence. In a sentence like:\n",
    "\n",
    ">There were several [MASK] with the proposed solution.\n",
    "    \n",
    "the model will learn that the word *problems* or *issues* is more likely at this position than the word *unicorns* or *days*. The model uses both the right and left context of the masked position to make its predictions. Models trained to maximize the probability of predicting the correct masked words learn to represent a good amount of linguistic knowledge as a result of this.\n",
    "\n",
    "A **probe** is a test of a language model aimed at investigating how accurate these predictions are, especially for cases where syntax makes it quite clear that one (form of a) word is correct, and another word is impossible. In the example above, for instance, the masked position can be filled by a plural noun (*problems*) but not by a singular noun (*problem*). If the model makes predictions that respect the linguistic constraints, we have reason to believe that the model is somehow aware of the linguistic structure of the language.\n",
    "\n",
    "While predicting whether the masked position should be filled by a singular or plural noun seems easy in the example above (both *were* and *several* are good predictors of plural), we can try to make the task harder by looking for contexts where the solution requires more careful *attention* to the right words in the context\n",
    "\n",
    ">There were some [MASK] with the proposed solution.\n",
    ">\n",
    ">There could be several [MASK] with the proposed solution.\n",
    ">\n",
    ">There were some unexpected and unforeseen [MASK] with the proposed solution.\n",
    "    \n",
    "In the examples above, the task is made harder by replacing *several* (which is always followed by a plural noun) by *some* (which can be followed by a singular or a plural noun), by replacing *were* (which always heads a sentence with a plural subject) by *could be* (which can head a sentence with a singular or plural subject), and by inserting material between the verb *were* (which indicates that there should be a plural) and the MASK.\n",
    "\n",
    "\n",
    "### Assignment\n",
    "\n",
    "Think of a grammatical phenomenon in a language of your choice, and come up with at least 5 example sentences to probe whether the model makes the correct predictions. Think of cases where the context makes it clear that the mask has to be plural or singular, that a verb has to have a particular form (like plural or singular, or participle or infinitive), that a specific (personal, possessive, reflexive) pronoun has to be used, that an adjective or noun has to have a specific inflection (like in German and more generally in languages with a rich case and/or gender marking system). There is a host of literature on this, see for instance [Marvin and Linzen](https://arxiv.org/abs/1808.09031) (for English) and [Sahin et al](https://www.mitpressjournals.org/doi/full/10.1162/coli_a_00376) (for multilingual probes).\n",
    "\n",
    "### Model\n",
    "\n",
    "The model we will be using for this task is the [multilingual BERT](https://huggingface.co/bert-base-multilingual-cased) model mBERT, that was trained on the Wikipedia text of the 102 largest Wikipedia's. This means that you do not have to choose examples from English, but that you may also present a probe for another language. \n",
    "\n",
    "The following loads the pipeline for doing masked prediction, and load the mBERT model (this may take a minute or so). You can ignore the warning about some weights not being initialized. The pipeline can be used to test masked language model prediction. Given a sequence containing the special token [MASK], the model will predict what the most likely tokens are at that position, using both left and right context."
   ]
  },
  {
   "cell_type": "code",
   "execution_count": 15,
   "metadata": {},
   "outputs": [
    {
     "name": "stderr",
     "output_type": "stream",
     "text": [
      "Some weights of the model checkpoint at bert-base-multilingual-cased were not used when initializing BertForMaskedLM: ['cls.seq_relationship.weight', 'cls.seq_relationship.bias']\n",
      "- This IS expected if you are initializing BertForMaskedLM from the checkpoint of a model trained on another task or with another architecture (e.g. initializing a BertForSequenceClassification model from a BertForPreTraining model).\n",
      "- This IS NOT expected if you are initializing BertForMaskedLM from the checkpoint of a model that you expect to be exactly identical (initializing a BertForSequenceClassification model from a BertForSequenceClassification model).\n"
     ]
    },
    {
     "data": {
      "text/plain": [
       "[{'score': 0.6111882925033569,\n",
       "  'token': 20390,\n",
       "  'token_str': 'problems',\n",
       "  'sequence': '[ There were some unexpected and unforeseen problems with the proposed solution. ]'},\n",
       " {'score': 0.04767114296555519,\n",
       "  'token': 17850,\n",
       "  'token_str': 'issues',\n",
       "  'sequence': '[ There were some unexpected and unforeseen issues with the proposed solution. ]'},\n",
       " {'score': 0.04377792775630951,\n",
       "  'token': 73082,\n",
       "  'token_str': 'dealing',\n",
       "  'sequence': '[ There were some unexpected and unforeseen dealing with the proposed solution. ]'},\n",
       " {'score': 0.03851241618394852,\n",
       "  'token': 64557,\n",
       "  'token_str': 'difficulties',\n",
       "  'sequence': '[ There were some unexpected and unforeseen difficulties with the proposed solution. ]'},\n",
       " {'score': 0.030926214531064034,\n",
       "  'token': 47451,\n",
       "  'token_str': 'concerned',\n",
       "  'sequence': '[ There were some unexpected and unforeseen concerned with the proposed solution. ]'}]"
      ]
     },
     "execution_count": 15,
     "metadata": {},
     "output_type": "execute_result"
    }
   ],
   "source": [
    "from transformers import pipeline\n",
    "\n",
    "mbert = pipeline('fill-mask', model='bert-base-multilingual-cased')\n",
    "mbert('[There were some unexpected and unforeseen [MASK] with the proposed solution.]')"
   ]
  },
  {
   "cell_type": "markdown",
   "metadata": {},
   "source": [
    "By default, the pipe returns the 5 most likely words that could appear at the position of the mask, along with a score. If you want to know specifically whether the model prefers one of two forms, you can give these forms as targets to the pipe, and also print the answer in a more readable form:"
   ]
  },
  {
   "cell_type": "code",
   "execution_count": 2,
   "metadata": {},
   "outputs": [
    {
     "name": "stdout",
     "output_type": "stream",
     "text": [
      "0.0034\ttoken: challenges\tThere were some unexpected and unforeseen challenges with the proposed solution.\n",
      "0.0001\ttoken: challenge\tThere were some unexpected and unforeseen challenge with the proposed solution.\n"
     ]
    }
   ],
   "source": [
    "def probe(sentence: str, targets: str) :\n",
    "    for res in mbert(sentence,targets=targets) :\n",
    "        print(f\"{res['score']:6.4f}\\ttoken: {res['token_str']}\\t{res['sequence']}\")\n",
    "        \n",
    "probe('There were some unexpected and unforeseen [MASK] with the proposed solution.',['challenge','challenges'])"
   ]
  },
  {
   "cell_type": "markdown",
   "metadata": {},
   "source": [
    "> **💡 Interesting Fact**: The same bias that is present towards grammatically correct choices can be observed in other cases, such as racial and gender stereotyping. Much work is currently in process to identify and remove gender and racial biases from learned language embeddings. See the following example and [this recent survey on the topic](https://arxiv.org/abs/2112.14168)."
   ]
  },
  {
   "cell_type": "code",
   "execution_count": 3,
   "metadata": {},
   "outputs": [
    {
     "data": {
      "application/vnd.jupyter.widget-view+json": {
       "model_id": "c8f88f6b17334996a2dcf44aa985a58a",
       "version_major": 2,
       "version_minor": 0
      },
      "text/plain": [
       "Downloading (…)lve/main/config.json:   0%|          | 0.00/570 [00:00<?, ?B/s]"
      ]
     },
     "metadata": {},
     "output_type": "display_data"
    },
    {
     "name": "stderr",
     "output_type": "stream",
     "text": [
      "C:\\Users\\luukv\\AppData\\Local\\Packages\\PythonSoftwareFoundation.Python.3.9_qbz5n2kfra8p0\\LocalCache\\local-packages\\Python39\\site-packages\\huggingface_hub\\file_download.py:129: UserWarning: `huggingface_hub` cache-system uses symlinks by default to efficiently store duplicated files but your machine does not support them in C:\\Users\\luukv\\.cache\\huggingface\\hub. Caching files will still work but in a degraded version that might require more space on your disk. This warning can be disabled by setting the `HF_HUB_DISABLE_SYMLINKS_WARNING` environment variable. For more details, see https://huggingface.co/docs/huggingface_hub/how-to-cache#limitations.\n",
      "To support symlinks on Windows, you either need to activate Developer Mode or to run Python as an administrator. In order to see activate developer mode, see this article: https://docs.microsoft.com/en-us/windows/apps/get-started/enable-your-device-for-development\n",
      "  warnings.warn(message)\n"
     ]
    },
    {
     "data": {
      "application/vnd.jupyter.widget-view+json": {
       "model_id": "6f6a981c59414517b59e2a645f4e6d77",
       "version_major": 2,
       "version_minor": 0
      },
      "text/plain": [
       "Downloading (…)\"pytorch_model.bin\";:   0%|          | 0.00/436M [00:00<?, ?B/s]"
      ]
     },
     "metadata": {},
     "output_type": "display_data"
    },
    {
     "name": "stderr",
     "output_type": "stream",
     "text": [
      "Some weights of the model checkpoint at bert-base-cased were not used when initializing BertForMaskedLM: ['cls.seq_relationship.weight', 'cls.seq_relationship.bias']\n",
      "- This IS expected if you are initializing BertForMaskedLM from the checkpoint of a model trained on another task or with another architecture (e.g. initializing a BertForSequenceClassification model from a BertForPreTraining model).\n",
      "- This IS NOT expected if you are initializing BertForMaskedLM from the checkpoint of a model that you expect to be exactly identical (initializing a BertForSequenceClassification model from a BertForSequenceClassification model).\n"
     ]
    },
    {
     "data": {
      "application/vnd.jupyter.widget-view+json": {
       "model_id": "278c70b94ab347c8ae45b2f7a26a2d06",
       "version_major": 2,
       "version_minor": 0
      },
      "text/plain": [
       "Downloading (…)okenizer_config.json:   0%|          | 0.00/29.0 [00:00<?, ?B/s]"
      ]
     },
     "metadata": {},
     "output_type": "display_data"
    },
    {
     "data": {
      "application/vnd.jupyter.widget-view+json": {
       "model_id": "9d4b9dbf980d465b8c5c882bec0a961e",
       "version_major": 2,
       "version_minor": 0
      },
      "text/plain": [
       "Downloading (…)solve/main/vocab.txt:   0%|          | 0.00/213k [00:00<?, ?B/s]"
      ]
     },
     "metadata": {},
     "output_type": "display_data"
    },
    {
     "data": {
      "application/vnd.jupyter.widget-view+json": {
       "model_id": "c2ae33b2eafe4e31b306364ec43073a5",
       "version_major": 2,
       "version_minor": 0
      },
      "text/plain": [
       "Downloading (…)/main/tokenizer.json:   0%|          | 0.00/436k [00:00<?, ?B/s]"
      ]
     },
     "metadata": {},
     "output_type": "display_data"
    },
    {
     "name": "stdout",
     "output_type": "stream",
     "text": [
      "['lawyer', 'carpenter', 'doctor', 'waiter', 'mechanic']\n",
      "['nurse', 'waitress', 'teacher', 'maid', 'prostitute']\n"
     ]
    }
   ],
   "source": [
    "from transformers import pipeline\n",
    "\n",
    "unmasker = pipeline(\"fill-mask\", model=\"bert-base-cased\")\n",
    "result = unmasker(\"This man works as a [MASK].\")\n",
    "print([r[\"token_str\"] for r in result])\n",
    "\n",
    "result = unmasker(\"This woman works as a [MASK].\")\n",
    "print([r[\"token_str\"] for r in result])"
   ]
  },
  {
   "cell_type": "markdown",
   "metadata": {},
   "source": [
    "### Your Turn to Probe\n",
    "\n",
    "Give at least five example sentences with a [MASK] and a list of targets that illustrate a specific grammatical phenomenon in a language of your choice. Describe what the grammatical phenomenon is you are investigating. Use the probe function for testing. Try to include both *easy* sentences (where the model should do well) as well as *hard* sentences (where there are words in the context that might lead to confusion, or where the clue words are far away from the mask). For languages other than Dutch or English, make sure to include enough explanation so that examples and tests are clear to a non-native speaker. \n",
    "\n",
    "Describe how well the model did on your probe sentences. Where there any cases where the model made the wrong decision?"
   ]
  },
  {
   "attachments": {},
   "cell_type": "markdown",
   "metadata": {},
   "source": [
    "### Answer\n",
    "A common mistake in Dutch is to use the word \"als\" instead of \"dan\" in a comparison where the subjects are not equal. Take for example the sentence \"Maarten is stronger than Peter\". \"Maarten is sterker als Peter\" is incorrect, and \"Maarten is sterker dan Peter\" is correct. In fact, the use of \"als\" instead of \"dan\" is always incorrect in such a comparison. The use of \"als\" in a comparison is however correct when the subjects are equal. Take for example the sentence \"Maarten is as strong as Peter\". In Dutch this would for example be \"Maarten is even sterk als Peter\". So \"als\" is correct in the second type of comparison, but not in the first type. Unfortunately, these cases are mixed up quite often.\n",
    "\n",
    "A list of probes was constructed to test whether mBERT correctly uses \"dan\" instead of \"als\" in unequal comparisons. The probes contained two different types of subjects to be compared: the pronouns \"jij\" (you) and \"ik\" (I/me), and the colours \"paars\" (purple) and \"groen\" (green). Four different adjectives were used: \"sterker\" (stronger), \"levendiger\" (more vibrant), \"slimmer\" (smarter), and \"helderder\" (brighter). Complexity was introduced by using an adjective that is uncommonly used in describing a given subject. E.g. \"slim\" is not really an adjective one would use to describe a colour. Still, even if the meaning makes less sense, it would be expected that \"dan\" is used instead of \"als\". Complexity was also introduced by making sentences longer.\n",
    "\n",
    "Remarkably, mBERT gives the correct answer in only four out of twelve probes. For sentences about colours, mBERT's mistakes are in the relatively more complex case of \"slimmer\", and the longer sentences. For the comparisons containing pronouns, mBERT is incorrect not only in the relatively more complex cases of \"levendiger\" and \"helderder\", but also in the simple case of \"sterker\". Additionally, it is incorrect in the cases of longer sentences.\n",
    "\n",
    "It is unclear why mBERT has such a poor performance in selecting the correct word, even in relatively simple cases. Namely, given that it was trained on Wikipedia texts, it is unlikely that it has seen a lot of examples of \"als\" incorrectly being used in an unequal comparison."
   ]
  },
  {
   "cell_type": "code",
   "execution_count": 103,
   "metadata": {},
   "outputs": [
    {
     "name": "stdout",
     "output_type": "stream",
     "text": [
      "English: Purple is more vibrant than green.\n",
      "0.0014\ttoken: dan\tPaars is levendiger dan groen.\n",
      "0.0013\ttoken: als\tPaars is levendiger als groen.\n",
      "---------------------\n",
      "English: Purple is brighter than green.\n",
      "0.0013\ttoken: dan\tPaars is helderder dan groen.\n",
      "0.0011\ttoken: als\tPaars is helderder als groen.\n",
      "---------------------\n",
      "English: Purple is stronger than green.\n",
      "0.0149\ttoken: dan\tPaars is sterker dan groen.\n",
      "0.0112\ttoken: als\tPaars is sterker als groen.\n",
      "---------------------\n",
      "English: Purple is smarter than green.\n",
      "0.0021\ttoken: als\tPaars is slimmer als groen.\n",
      "0.0020\ttoken: dan\tPaars is slimmer dan groen.\n",
      "---------------------\n",
      "English: Purple is a more vibrant colour than green.\n",
      "0.0022\ttoken: als\tPaars is een levendigere kleur als groen.\n",
      "0.0021\ttoken: dan\tPaars is een levendigere kleur dan groen.\n",
      "---------------------\n",
      "English: Purple is a brighter colour than green.\n",
      "0.0016\ttoken: als\tPaars is een helderdere kleur als groen.\n",
      "0.0012\ttoken: dan\tPaars is een helderdere kleur dan groen.\n",
      "---------------------\n",
      "English: You are more vibrant than me.\n",
      "0.2535\ttoken: als\tJij bent levendiger als ik.\n",
      "0.1677\ttoken: dan\tJij bent levendiger dan ik.\n",
      "---------------------\n",
      "English: You are brighter than me.\n",
      "0.2368\ttoken: als\tJij bent helderder als ik.\n",
      "0.0129\ttoken: dan\tJij bent helderder dan ik.\n",
      "---------------------\n",
      "English: You are stronger than me.\n",
      "0.1171\ttoken: als\tJij bent sterker als ik.\n",
      "0.0138\ttoken: dan\tJij bent sterker dan ik.\n",
      "---------------------\n",
      "English: You are smarter than me.\n",
      "0.0037\ttoken: dan\tJij bent slimmer dan ik.\n",
      "0.0023\ttoken: als\tJij bent slimmer als ik.\n",
      "---------------------\n",
      "English: You read a lot of books and that is why you are smarter than me.\n",
      "0.3941\ttoken: als\tJij leest veel boeken en daarom ben je slimmer als ik.\n",
      "0.0907\ttoken: dan\tJij leest veel boeken en daarom ben je slimmer dan ik.\n",
      "---------------------\n",
      "English: You go to the gym and that is why you are stronger than me.\n",
      "0.7921\ttoken: als\tJij gaat naar de sportschool en daarom ben je sterker als ik.\n",
      "0.1141\ttoken: dan\tJij gaat naar de sportschool en daarom ben je sterker dan ik.\n"
     ]
    }
   ],
   "source": [
    "print(\"English: Purple is more vibrant than green.\")\n",
    "probe(\"Paars is levendiger [MASK] groen.\", [\"dan\", \"als\"])\n",
    "print(\"---------------------\")\n",
    "print(\"English: Purple is brighter than green.\")\n",
    "probe(\"Paars is helderder [MASK] groen.\", [\"dan\", \"als\"])\n",
    "print(\"---------------------\")\n",
    "print(\"English: Purple is stronger than green.\")\n",
    "probe(\"Paars is sterker [MASK] groen.\", [\"dan\", \"als\"])\n",
    "print(\"---------------------\")\n",
    "print(\"English: Purple is smarter than green.\")\n",
    "probe(\"Paars is slimmer [MASK] groen.\", [\"dan\", \"als\"])\n",
    "print(\"---------------------\")\n",
    "print(\"English: Purple is a more vibrant colour than green.\")\n",
    "probe(\"Paars is een levendigere kleur [MASK] groen.\", [\"dan\", \"als\"])\n",
    "print(\"---------------------\")\n",
    "print(\"English: Purple is a brighter colour than green.\")\n",
    "probe(\"Paars is een helderdere kleur [MASK] groen.\", [\"dan\", \"als\"])\n",
    "print(\"---------------------\")\n",
    "print(\"English: You are more vibrant than me.\")\n",
    "probe(\"Jij bent levendiger [MASK] ik.\", [\"dan\", \"als\"])\n",
    "print(\"---------------------\")\n",
    "print(\"English: You are brighter than me.\")\n",
    "probe(\"Jij bent helderder [MASK] ik.\", [\"dan\", \"als\"])\n",
    "print(\"---------------------\")\n",
    "print(\"English: You are stronger than me.\")\n",
    "probe(\"Jij bent sterker [MASK] ik.\", [\"dan\", \"als\"])\n",
    "print(\"---------------------\")\n",
    "print(\"English: You are smarter than me.\")\n",
    "probe(\"Jij bent slimmer [MASK] ik.\", [\"dan\", \"als\"])\n",
    "print(\"---------------------\")\n",
    "print(\"English: You read a lot of books and that is why you are smarter than me.\")\n",
    "probe(\"Jij leest veel boeken en daarom ben je slimmer [MASK] ik.\", [\"dan\", \"als\"])\n",
    "print(\"---------------------\")\n",
    "print(\"English: You go to the gym and that is why you are stronger than me.\")\n",
    "probe(\"Jij gaat naar de sportschool en daarom ben je sterker [MASK] ik.\", [\"dan\", \"als\"])\n"
   ]
  },
  {
   "cell_type": "markdown",
   "metadata": {},
   "source": [
    "## Exercise 2: Mixing Pipelines for Text-to-text QA in Many Languages\n",
    "\n",
    "The Model Hub of HuggingFace is home to a staggering amount of models for the more disparate use-cases, but you may have noticed that many of those are trained on the English language. Let's consider for example the [`UnifiedQA`](https://github.com/allenai/unifiedqa) model by AllenAI, which is a T5 model architecture trained to perform question answering on multiple formats (e.g. extract the answer from the provided context, produce an answer without a supporting context, choose among multiple possible answers, yes/no questions) using a unified text-to-text approach. While this opens thrilling perspectives in having a single model for all QA use-cases, UnifiedQA models are available for English only, and training such models from scratch in another language would require nontrivial effort and resources.\n",
    "\n",
    "Here are several examples of how text should be formatted for the UnifiedQA model:\n",
    "\n",
    "| **Task type** | **Example Dataset** | **Format** | **Example** | **Output** |\n",
    "| :---: | :--- | :--- | :--- | :--- |\n",
    "|  **Extractive QA** | SQUAD | `<QUESTION> \\n <CONTEXT>` | `At what speed did the turbine operate? \\n (Nikola_Tesla) On his 50th birthday in 1906, Tesla demonstrated his 200 horsepower (150 kilowatts) 16,000 rpm bladeless turbine. ...` |  `16,000 rpm` |\n",
    "|  **Abstractive QA** | NarrativeQA | `<QUESTION> \\n <CONTEXT>` | `What does a drink from narcissus's spring cause the drinker to do?  \\n  Mercury has awakened Echo, who weeps for Narcissus, and states that a drink from Narcissus's spring causes the drinkers to ''Grow dotingly enamored of themselves.'' ...` | `fall in love with themselves` |\n",
    "|  **Multiple-choice QA** | ARC-challenge | `<QUESTION> \\n (a) <CHOICE_A> (b) <CHOICE_B> ...` | `What does photosynthesis produce that helps plants grow? \\n (A) water (B) oxygen (C) protein (D) sugar` | `sugar` |\n",
    "|  **Multiple-choice QA with context** | MCTest | `<QUESTION> \\n (a) <CHOICE_A> (b) <CHOICE_B> ... \\n <CONTEXT>` | `Who was Billy? \\n (A) The skinny kid (B) A teacher (C) A little kid (D) The big kid \\n Billy was like a king on the school yard. A king without a queen. He was the biggest kid in our grade, so he made all the rules during recess. ...` | `The big kid` |\n",
    "|  **Yes-no QA** | BoolQ | `<QUESTION> \\n <CONTEXT>` | `Was America the first country to have a president?  \\n (President) The first usage of the word president to denote the highest official in a government was during the Commonwealth of England ...` | `no` |\n",
    "\n",
    "### Assignment\n",
    "\n",
    "We are gonna build a function making use of multiple models through 🤗 Pipelines to generate a response to a question in one of the formats specified above, in one of the languages supported by the MT systems available on the HuggingFace Model Hub. The function will translate and paraphrase the query into multiple examples, and then pick the best outputs of the UnifiedQA model as candidates for backtranslation. In this way, we mock the existance of a UnifiedQA model for the language of our choice.\n",
    "\n",
    "### Model\n",
    "\n",
    "The following code loads the UnifiedQA model and use it to perform QA on a multiple choice question without context."
   ]
  },
  {
   "cell_type": "code",
   "execution_count": 1,
   "metadata": {},
   "outputs": [
    {
     "data": {
      "text/plain": [
       "[{'generated_text': 'Paris'}]"
      ]
     },
     "execution_count": 1,
     "metadata": {},
     "output_type": "execute_result"
    }
   ],
   "source": [
    "from transformers import pipeline\n",
    "\n",
    "# Using at least the base variant of the model is advised for good results\n",
    "generator = pipeline(\"text2text-generation\", model=\"allenai/unifiedqa-t5-base\")\n",
    "generator(\"What is the name of the city where the Eiffel Tower is located? \\n (A) Paris (B) London (C) Prague (D) Berlin\")"
   ]
  },
  {
   "cell_type": "markdown",
   "metadata": {},
   "source": [
    "### Your turn to Pipe\n",
    "\n",
    "Using the pipelines we saw in the tutorial, create a function taking a `question` string, an optional `context` string and an optional list of strings called `choices` and performs the following steps:\n",
    "\n",
    "- Use one of the [MarianMT](https://huggingface.co/models?search=helsinki-nlp) machine translation models to translate all the inputs from the language of your choice to English. You may want to split the text into sentences (e.g. by splitting on periods) to obtain better results for the context.\n",
    "\n",
    "- Use a paraphrasing model ([`tuner007/pegasus_paraphrase`](https://huggingface.co/tuner007/pegasus_paraphrase) is a good choice, albeit heavy) to produce 4 paraphrases of the question, using the `num_return_sequences` parameter.\n",
    "\n",
    "- For each question (translated + 4 paraphrases), format it with the translated context and choices (if present) as a single string in the format required by UnifiedQA.\n",
    "\n",
    "- Use the `allenai/unifiedqa-t5-base` model to generate an answer for each of the 5 questions.\n",
    "\n",
    "- If at least 3 of the 5 answers are identical strings, return the result translated back to the original language using the MarianMT model for the reciprocal language pair (e.g. if you used `Helsinki-NLP/opus-mt-nl-en` to translate from Dutch to English, you will need to use `Helsinki-NLP/opus-mt-en-nl`). Otherwise, print \"No common answer found\" translated in the original language.\n",
    "\n",
    "**Importantly**, the quality of the output does not determine your score in the evaluation. The goal is to get a feel for the models and their capabilities."
   ]
  },
  {
   "cell_type": "code",
   "execution_count": 9,
   "metadata": {},
   "outputs": [
    {
     "data": {
      "text/plain": [
       "'Groningen'"
      ]
     },
     "execution_count": 9,
     "metadata": {},
     "output_type": "execute_result"
    }
   ],
   "source": [
    "from typing import Optional, List\n",
    "from collections import Counter\n",
    "from transformers import AutoTokenizer, AutoModel, PegasusForConditionalGeneration, PegasusTokenizer\n",
    "\n",
    "def answer(question: str, context: Optional[str] = None, choices: Optional[List[str]] = None):\n",
    "    alphabet = \"ABCDEFGHIJKLMNOPQRSTUVWXYZ\"\n",
    "    paraphraser_model_name = \"tuner007/pegasus_paraphrase\"\n",
    "    paraphraser_tokenizer = PegasusTokenizer.from_pretrained(paraphraser_model_name)\n",
    "    paraphraser_model = PegasusForConditionalGeneration.from_pretrained(paraphraser_model_name)\n",
    "    dutch_to_english_translator = pipeline('translation', model = \"Helsinki-NLP/opus-mt-nl-en\")\n",
    "    english_to_dutch_translator = pipeline('translation', model = \"Helsinki-NLP/opus-mt-en-nl\")\n",
    "    \n",
    "\n",
    "    question_en = dutch_to_english_translator(question)[0]['translation_text']\n",
    "    paraphraser_tokens = paraphraser_tokenizer(question_en, return_tensors=\"pt\")\n",
    "    output = paraphraser_model.generate(**paraphraser_tokens, num_return_sequences = 4)\n",
    "    paraphrases = paraphraser_tokenizer.batch_decode(output, skip_special_tokens=True)\n",
    "   \n",
    "    all_questions = [question_en]\n",
    "    for paraphrase in paraphrases:\n",
    "        all_questions.append(paraphrase)\n",
    "    \n",
    "    if (context):\n",
    "        # Remove any leading or trailing spaces and periods from the\n",
    "        # context. Then, split the context at periods. Translate each\n",
    "        # sentence separately. Finally, strip each translation of \n",
    "        # spaces and periods, and combine all sentences with periods\n",
    "        # between them.\n",
    "        context_en = dutch_to_english_translator(context.strip(\" .\").split('.'))\n",
    "        complete_context_en = \"\"\n",
    "        for sentence in context_en:\n",
    "            complete_context_en += sentence['translation_text'].strip(\" .\") + \". \"\n",
    "\n",
    "        \n",
    "\n",
    "    if (choices):\n",
    "        choices_en = []\n",
    "        for choice in choices:\n",
    "            choices_en.append(dutch_to_english_translator(choice)[0]['translation_text'])\n",
    "\n",
    "        \n",
    "    all_answers = []\n",
    "    for q in all_questions:\n",
    "        model_input = f\"{q}\"\n",
    "\n",
    "        if (context):\n",
    "            model_input += \" \\n \"\n",
    "            model_input += f\"{complete_context_en}\"\n",
    "        \n",
    "        if (choices):\n",
    "            model_input += \" \\n \"\n",
    "            for i in range(len(choices_en)):\n",
    "                model_input += f\"({alphabet[i]}) {choices_en[i]} \"\n",
    "\n",
    "        generator(model_input)[0]['generated_text']\n",
    "        all_answers.append(generator(model_input)[0]['generated_text'])\n",
    "\n",
    "\n",
    "    most_common = Counter(all_answers).most_common(1)\n",
    "    if (most_common[0][1] >= 3):\n",
    "        final_answer_en = most_common[0][0]\n",
    "    else:\n",
    "        final_answer_en = \"No common answer found\"\n",
    "\n",
    "    \n",
    "    return english_to_dutch_translator(final_answer_en)[0]['translation_text']\n",
    "\n",
    "question = \"Waar woon ik?\"\n",
    "context = \"Ik ben een student in Groningen. Ik studeer kunstmatige intelligentie. Mijn naam is Luuk. Ik ben bijna 24 jaar oud.\"\n",
    "choices = [\"Luuk\", \"Groningen\", \"een student\", \"kunstmatige intelligentie\"]\n",
    "final_answer = answer(question = question, context = context, choices = choices)\n",
    "final_answer\n",
    "#MISSCHIEN TOKENIZER GEBRUIKEN?\n",
    "#lowercase?"
   ]
  },
  {
   "cell_type": "markdown",
   "metadata": {},
   "source": [
    "## (Optional) Exercise 3: SentenceTransformers for Semantic Similarity Search"
   ]
  },
  {
   "cell_type": "markdown",
   "metadata": {},
   "source": [
    "*Figures and some code are from the [CohereAI Semantic Search Tutorial](https://docs.cohere.ai/semantic-search/) by Jay Alammar.*\n",
    "\n",
    "> SentenceTransformers is a Python framework for state-of-the-art sentence, text and image embeddings. The initial work is described in our paper [Sentence-BERT: Sentence Embeddings using Siamese BERT-Networks](https://arxiv.org/abs/1908.10084).\n",
    ">\n",
    "> You can use this framework to compute sentence / text embeddings for more than 100 languages. These embeddings can then be compared e.g. with cosine-similarity to find sentences with a similar meaning. This can be useful for semantic textual similar, semantic search, or paraphrase mining. \n",
    "> \n",
    "> The framework is based on PyTorch and Transformers and offers a large collection of pre-trained models tuned for various tasks. Further, it is easy to fine-tune your own models.\n",
    "\n",
    "Semantic search is a typical use case in natural language processing, in which we want to retrieve the most relevant documents from a corpus (e.g. Automatic FAQs, Web browser search results, etc.). Using the similarity between embedded text representations allows us to go beyond simple keyword matching, which is highly desirable in this setting (e.g. `tomorrow will rain` should be very close in embedding space to `the weather forecast announces showers for the next day`, despite no lexical overlap). \n",
    "\n",
    "<div>\n",
    "<img alt=\"Visualizing Semantic Search\" src=\"https://github.com/cohere-ai/notebooks/raw/main/notebooks/images/basic-semantic-search-overview.png?3\" style=\"width: 60%\" />\n",
    "</div>\n",
    "\n",
    "In this exercise we will use first Huggingface Transformers and then the [SentenceTransformers](https://sbert.net) library to find the most relevant paragraphs for a specific query.\n",
    "\n",
    "Let's start by loading the `train` split of the `squad` dataset from the Dataset Hub and flatten its structure so that every example contains a single triplet `(context, question, answer)`. We are going to use only the first 50 rows of the dataset, the others can be discarded."
   ]
  },
  {
   "cell_type": "code",
   "execution_count": null,
   "metadata": {},
   "outputs": [],
   "source": [
    "from datasets import load_dataset\n",
    "\n",
    "squad = load_dataset(\"squad\", split=\"train[:50]\")\n",
    "\n",
    "squad_train_filtered = None# Your code here"
   ]
  },
  {
   "cell_type": "markdown",
   "metadata": {},
   "source": [
    "Now, sample a question at random from the resulting dataset and print it. You can use `shuffle` or turn the Dataset into a `DataFrame` and use `sample`."
   ]
  },
  {
   "cell_type": "code",
   "execution_count": null,
   "metadata": {},
   "outputs": [],
   "source": [
    "query = None # Your code here\n",
    "\n",
    "print(query)"
   ]
  },
  {
   "cell_type": "markdown",
   "metadata": {},
   "source": [
    "We now going to use a model trained to perform **semantic search** to retrieve the top 10 most likely contexts for each selected question.\n",
    "\n",
    "The model `sentence-transformers/multi-qa-MiniLM-L6-cos-v1` is a good choice for this task, since it is relatively small and was explicitly trained for semantic search. We are going to define now three utility functions:\n",
    "\n",
    "- `dot_score` computes the dot product between two Pytorch tensors.\n",
    "- `mean_pooling` averages the embeddings produced by a model to obtain a **sentence embedding**.\n",
    "- `encode` uses a model and a tokenizer to convert a list of texts into a tensor of embeddings. **Complete it with the first two steps we saw in the tutorial.**"
   ]
  },
  {
   "cell_type": "code",
   "execution_count": 17,
   "metadata": {},
   "outputs": [],
   "source": [
    "import torch\n",
    "from torch import Tensor\n",
    "import torch.nn.functional as F\n",
    "\n",
    "\n",
    "def dot_score(a: Tensor, b: Tensor):\n",
    "    \"\"\"\n",
    "    Computes the dot-product dot_prod(a[i], b[j]) for all i and j.\n",
    "    :return: Matrix with res[i][j]  = dot_prod(a[i], b[j])\n",
    "    Taken from the SentenceTransformer library\n",
    "    \"\"\"\n",
    "    if not isinstance(a, torch.Tensor):\n",
    "        a = torch.tensor(a)\n",
    "    if not isinstance(b, torch.Tensor):\n",
    "        b = torch.tensor(b)\n",
    "    if len(a.shape) == 1:\n",
    "        a = a.unsqueeze(0)\n",
    "    if len(b.shape) == 1:\n",
    "        b = b.unsqueeze(0)\n",
    "    print(a.shape, b.shape)\n",
    "    # Compute the dot-product\n",
    "    return torch.mm(a, b.transpose(0, 1))\n",
    "\n",
    "\n",
    "#Mean Pooling - Average all the embeddings produced by the model\n",
    "def mean_pooling(model_output, attention_mask):\n",
    "    # First element of model_output contains all token embeddings\n",
    "    token_embeddings = model_output.last_hidden_state\n",
    "    # Expand the mask to the same size as the token embeddings to avoid indexing errors\n",
    "    input_mask_expanded = attention_mask.unsqueeze(-1).expand(token_embeddings.size()).float()\n",
    "    # Compute the mean of the token embeddings\n",
    "    return torch.sum(token_embeddings * input_mask_expanded, 1) / torch.clamp(input_mask_expanded.sum(1), min=1e-9)\n",
    "\n",
    "\n",
    "#Encode text\n",
    "def encode(model, tokenizer, texts):\n",
    "    # Tokenize sentences\n",
    "    encoded_input = None # Your code here\n",
    "    # Compute token embeddings\n",
    "    with torch.no_grad():\n",
    "        model_output = None # Your code here\n",
    "    # Perform pooling\n",
    "    embeddings = mean_pooling(model_output, encoded_input['attention_mask'])\n",
    "    # Normalize embeddings\n",
    "    embeddings = F.normalize(embeddings, p=2, dim=1)\n",
    "    \n",
    "    return embeddings"
   ]
  },
  {
   "cell_type": "markdown",
   "metadata": {},
   "source": [
    "Let's now use these functions to compute similarity scores for the query and all the contexts:"
   ]
  },
  {
   "cell_type": "code",
   "execution_count": null,
   "metadata": {},
   "outputs": [],
   "source": [
    "# Sentences we want sentence embeddings for\n",
    "contexts = list(squad_train_filtered.to_pandas()['context'])\n",
    "\n",
    "# Load the model and tokenizer from HuggingFace Hub\n",
    "tokenizer = None # Your code here\n",
    "model = None # Your code here\n",
    "\n",
    "#Encode query and contexts with the encode function\n",
    "query_emb = None # Your code here\n",
    "contexts_emb = None # Your code here\n",
    "\n",
    "#Compute dot score between query and all contexts embeddings\n",
    "scores = torch.mm(query_emb, contexts_emb.transpose(0, 1))[0].cpu().tolist()\n",
    "\n",
    "#Combine contexts & scores\n",
    "contexts_score_pairs = list(zip(contexts, scores))\n",
    "\n",
    "#Sort by decreasing score\n",
    "contexts_score_pairs = sorted(contexts_score_pairs, key=lambda x: x[1], reverse=True)\n",
    "\n",
    "#Output passages & scores\n",
    "for ctx, score in contexts_score_pairs:\n",
    "    print(score, ctx)"
   ]
  },
  {
   "cell_type": "markdown",
   "metadata": {},
   "source": [
    "We can now use SentenceTransformers to do the same, but using much less code:"
   ]
  },
  {
   "cell_type": "code",
   "execution_count": null,
   "metadata": {},
   "outputs": [],
   "source": [
    "from sentence_transformers import SentenceTransformer, util\n",
    "\n",
    "# Query was defined above\n",
    "contexts = list(squad_train_filtered.to_pandas()['context'])\n",
    "\n",
    "#Load the model\n",
    "model = SentenceTransformer('sentence-transformers/multi-qa-MiniLM-L6-cos-v1')\n",
    "\n",
    "#Encode query and contexts using SentenceTransformer model.encode\n",
    "query_emb = model.encode(query)\n",
    "contexts_emb = model.encode(contexts)\n",
    "\n",
    "#Compute dot score between query and all contexts embeddings\n",
    "scores = util.dot_score(query_emb, contexts_emb)[0].tolist()\n",
    "\n",
    "#Combine contexts & scores\n",
    "contexts_score_pairs = list(zip(contexts, scores))\n",
    "\n",
    "#Sort by decreasing score\n",
    "contexts_score_pairs = sorted(contexts_score_pairs, key=lambda x: x[1], reverse=True)\n",
    "\n",
    "#Output passages & scores\n",
    "for ctx, score in contexts_score_pairs:\n",
    "    print(score, ctx)"
   ]
  },
  {
   "cell_type": "markdown",
   "metadata": {},
   "source": [
    "For a more advanced overview on how to optimize speed with semantic search, see how to use the [FAISS](https://github.com/facebookresearch/faiss) library to perform fast nearest neighbor search natively with Huggingface Transformers here: [Using FAISS for efficient similarity search ](https://huggingface.co/course/chapter5/6?fw=pt#using-faiss-for-efficient-similarity-search)"
   ]
  }
 ],
 "metadata": {
  "kernelspec": {
   "display_name": "Python 3",
   "language": "python",
   "name": "python3"
  },
  "language_info": {
   "codemirror_mode": {
    "name": "ipython",
    "version": 3
   },
   "file_extension": ".py",
   "mimetype": "text/x-python",
   "name": "python",
   "nbconvert_exporter": "python",
   "pygments_lexer": "ipython3",
   "version": "3.9.13"
  },
  "vscode": {
   "interpreter": {
    "hash": "2da234feb42e43ab2a40b5d03fdd39d6bc5e1b2567c006fef92bd85a9118b728"
   }
  }
 },
 "nbformat": 4,
 "nbformat_minor": 4
}
